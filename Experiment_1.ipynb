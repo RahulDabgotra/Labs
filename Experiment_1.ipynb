{
  "nbformat": 4,
  "nbformat_minor": 0,
  "metadata": {
    "colab": {
      "name": "Experiment_1.ipynb",
      "provenance": [],
      "include_colab_link": true
    },
    "kernelspec": {
      "display_name": "Python 3",
      "name": "python3"
    },
    "language_info": {
      "name": "python"
    }
  },
  "cells": [
    {
      "cell_type": "markdown",
      "metadata": {
        "id": "view-in-github",
        "colab_type": "text"
      },
      "source": [
        "<a href=\"https://colab.research.google.com/github/RahulDabgotra/Labs/blob/main/Experiment_1.ipynb\" target=\"_parent\"><img src=\"https://colab.research.google.com/assets/colab-badge.svg\" alt=\"Open In Colab\"/></a>"
      ]
    },
    {
      "cell_type": "markdown",
      "metadata": {
        "id": "iNNIxp_gt8uM"
      },
      "source": [
        "#**Python Basics**\n"
      ]
    },
    {
      "cell_type": "code",
      "metadata": {
        "id": "hyGqesLegwaZ"
      },
      "source": [
        "a=100"
      ],
      "execution_count": null,
      "outputs": []
    },
    {
      "cell_type": "code",
      "metadata": {
        "colab": {
          "base_uri": "https://localhost:8080/"
        },
        "id": "o8auqDlIiIOo",
        "outputId": "a4e1f59a-81e2-468a-c2a3-ba4988115685"
      },
      "source": [
        "print(a)"
      ],
      "execution_count": null,
      "outputs": [
        {
          "output_type": "stream",
          "name": "stdout",
          "text": [
            "100\n"
          ]
        }
      ]
    },
    {
      "cell_type": "code",
      "metadata": {
        "id": "sy7I1h6piNco"
      },
      "source": [
        "b=100"
      ],
      "execution_count": null,
      "outputs": []
    },
    {
      "cell_type": "code",
      "metadata": {
        "colab": {
          "base_uri": "https://localhost:8080/"
        },
        "id": "3DhJEzJ6itJe",
        "outputId": "89de8104-7f73-482f-81c6-07ef60729ba1"
      },
      "source": [
        "print(a+b)"
      ],
      "execution_count": null,
      "outputs": [
        {
          "output_type": "stream",
          "name": "stdout",
          "text": [
            "200\n"
          ]
        }
      ]
    },
    {
      "cell_type": "code",
      "metadata": {
        "id": "AB3hLQih_Gt2"
      },
      "source": [
        "# Loop"
      ],
      "execution_count": null,
      "outputs": []
    },
    {
      "cell_type": "code",
      "metadata": {
        "colab": {
          "base_uri": "https://localhost:8080/"
        },
        "id": "0jMTFFyH_KNA",
        "outputId": "8561ef52-5182-4974-a065-20e3f0a2f5c4"
      },
      "source": [
        "for x in \"Hello\":\n",
        "  print(x)"
      ],
      "execution_count": null,
      "outputs": [
        {
          "output_type": "stream",
          "name": "stdout",
          "text": [
            "H\n",
            "e\n",
            "l\n",
            "l\n",
            "o\n"
          ]
        }
      ]
    },
    {
      "cell_type": "code",
      "metadata": {
        "id": "xaXiOBTCkzvn"
      },
      "source": [
        "# Data Types"
      ],
      "execution_count": null,
      "outputs": []
    },
    {
      "cell_type": "markdown",
      "metadata": {
        "id": "v6amizpUB1FZ"
      },
      "source": [
        "Data types specify the different sizes and values that can be stored in the variable."
      ]
    },
    {
      "cell_type": "code",
      "metadata": {
        "colab": {
          "base_uri": "https://localhost:8080/"
        },
        "id": "p3hqxgsdk5es",
        "outputId": "3e29ca26-a123-445e-b27b-d2465a1ca44b"
      },
      "source": [
        "type(100)"
      ],
      "execution_count": null,
      "outputs": [
        {
          "output_type": "execute_result",
          "data": {
            "text/plain": [
              "int"
            ]
          },
          "metadata": {},
          "execution_count": 8
        }
      ]
    },
    {
      "cell_type": "code",
      "metadata": {
        "colab": {
          "base_uri": "https://localhost:8080/"
        },
        "id": "Aj8X2yOClDtT",
        "outputId": "42457c8d-0405-44f0-d6c5-953ba10f7410"
      },
      "source": [
        "type(-20)"
      ],
      "execution_count": null,
      "outputs": [
        {
          "output_type": "execute_result",
          "data": {
            "text/plain": [
              "int"
            ]
          },
          "metadata": {},
          "execution_count": 9
        }
      ]
    },
    {
      "cell_type": "code",
      "metadata": {
        "colab": {
          "base_uri": "https://localhost:8080/"
        },
        "id": "VtdES8_YlHii",
        "outputId": "fc083377-6724-40e2-9c8f-f70bdf24bfd1"
      },
      "source": [
        "type(8.5)"
      ],
      "execution_count": null,
      "outputs": [
        {
          "output_type": "execute_result",
          "data": {
            "text/plain": [
              "float"
            ]
          },
          "metadata": {},
          "execution_count": 10
        }
      ]
    },
    {
      "cell_type": "code",
      "metadata": {
        "colab": {
          "base_uri": "https://localhost:8080/"
        },
        "id": "Tuk3a9d8lK1C",
        "outputId": "27691e61-d4ea-4bb1-a5c5-1340325dd017"
      },
      "source": [
        "type(\"Hy\")"
      ],
      "execution_count": null,
      "outputs": [
        {
          "output_type": "execute_result",
          "data": {
            "text/plain": [
              "str"
            ]
          },
          "metadata": {},
          "execution_count": 11
        }
      ]
    },
    {
      "cell_type": "code",
      "metadata": {
        "id": "qYpMf6cXlXlu"
      },
      "source": [
        "# Casting Data Types"
      ],
      "execution_count": null,
      "outputs": []
    },
    {
      "cell_type": "code",
      "metadata": {
        "colab": {
          "base_uri": "https://localhost:8080/"
        },
        "id": "5oLjlshwlxBI",
        "outputId": "975a2925-e9c5-4bc6-e726-0141b8409384"
      },
      "source": [
        "int(8.5)"
      ],
      "execution_count": null,
      "outputs": [
        {
          "output_type": "execute_result",
          "data": {
            "text/plain": [
              "8"
            ]
          },
          "metadata": {},
          "execution_count": 13
        }
      ]
    },
    {
      "cell_type": "code",
      "metadata": {
        "colab": {
          "base_uri": "https://localhost:8080/"
        },
        "id": "9dB9jbTCmCVV",
        "outputId": "50704c6a-920d-4d96-d710-065b412b5f0b"
      },
      "source": [
        "float(8)"
      ],
      "execution_count": null,
      "outputs": [
        {
          "output_type": "execute_result",
          "data": {
            "text/plain": [
              "8.0"
            ]
          },
          "metadata": {},
          "execution_count": 14
        }
      ]
    },
    {
      "cell_type": "code",
      "metadata": {
        "colab": {
          "base_uri": "https://localhost:8080/",
          "height": 35
        },
        "id": "2iKT7j5RmEq2",
        "outputId": "5783d731-c593-4c37-d23d-4e367d2d623b"
      },
      "source": [
        "str(11)"
      ],
      "execution_count": null,
      "outputs": [
        {
          "output_type": "execute_result",
          "data": {
            "application/vnd.google.colaboratory.intrinsic+json": {
              "type": "string"
            },
            "text/plain": [
              "'11'"
            ]
          },
          "metadata": {},
          "execution_count": 15
        }
      ]
    },
    {
      "cell_type": "code",
      "metadata": {
        "id": "8mOMCZa4mOP5"
      },
      "source": [
        "# Variables"
      ],
      "execution_count": null,
      "outputs": []
    },
    {
      "cell_type": "code",
      "metadata": {
        "colab": {
          "base_uri": "https://localhost:8080/"
        },
        "id": "7kOvsQmImSqk",
        "outputId": "a1195bd4-9a9f-4895-b51f-e00ebbd21076"
      },
      "source": [
        "name = \"Rahul\"\n",
        "print(name)"
      ],
      "execution_count": null,
      "outputs": [
        {
          "output_type": "stream",
          "name": "stdout",
          "text": [
            "Rahul\n"
          ]
        }
      ]
    },
    {
      "cell_type": "code",
      "metadata": {
        "colab": {
          "base_uri": "https://localhost:8080/",
          "height": 35
        },
        "id": "BmhaF0lUmgUo",
        "outputId": "944a5492-c279-4fe6-9a1d-2024f531fdc6"
      },
      "source": [
        "name = \"Rahul\"\n",
        "name"
      ],
      "execution_count": null,
      "outputs": [
        {
          "output_type": "execute_result",
          "data": {
            "application/vnd.google.colaboratory.intrinsic+json": {
              "type": "string"
            },
            "text/plain": [
              "'Rahul'"
            ]
          },
          "metadata": {},
          "execution_count": 18
        }
      ]
    },
    {
      "cell_type": "code",
      "metadata": {
        "colab": {
          "base_uri": "https://localhost:8080/"
        },
        "id": "6DWk582Ymk9H",
        "outputId": "a027e083-d268-47cd-bd03-be9802e7f5f7"
      },
      "source": [
        "a = 10 \n",
        "b = 15\n",
        "c = a + b\n",
        "print(c)"
      ],
      "execution_count": null,
      "outputs": [
        {
          "output_type": "stream",
          "name": "stdout",
          "text": [
            "25\n"
          ]
        }
      ]
    },
    {
      "cell_type": "code",
      "metadata": {
        "id": "F2EwC3oD-zBK"
      },
      "source": [
        "# Strings"
      ],
      "execution_count": null,
      "outputs": []
    },
    {
      "cell_type": "code",
      "metadata": {
        "colab": {
          "base_uri": "https://localhost:8080/"
        },
        "id": "1NGUSfab-1Um",
        "outputId": "5d3cb9b7-06c2-4043-be93-f6e74f2661a7"
      },
      "source": [
        "print(\"Hello\")"
      ],
      "execution_count": null,
      "outputs": [
        {
          "output_type": "stream",
          "name": "stdout",
          "text": [
            "Hello\n"
          ]
        }
      ]
    },
    {
      "cell_type": "code",
      "metadata": {
        "id": "iWuyOM3Xm0ZJ"
      },
      "source": [
        "# List"
      ],
      "execution_count": null,
      "outputs": []
    },
    {
      "cell_type": "markdown",
      "metadata": {
        "id": "TE4mph_0B87N"
      },
      "source": [
        "Used to store multiple items in a single variable.\n",
        "\n",
        "\n",
        "\n"
      ]
    },
    {
      "cell_type": "code",
      "metadata": {
        "id": "Wx5Dpbtym6cd"
      },
      "source": [
        "games=[\"Basketball\",\"Circket\",\"Football\",\"Volleyball\",\"Hockey\"]"
      ],
      "execution_count": null,
      "outputs": []
    },
    {
      "cell_type": "code",
      "metadata": {
        "colab": {
          "base_uri": "https://localhost:8080/"
        },
        "id": "hhITIOqv7rb8",
        "outputId": "72814b44-e398-4e85-aac5-5a7d7c5e9308"
      },
      "source": [
        "print(games)"
      ],
      "execution_count": null,
      "outputs": [
        {
          "output_type": "stream",
          "name": "stdout",
          "text": [
            "['Basketball', 'Circket', 'Football', 'Volleyball', 'Hockey']\n"
          ]
        }
      ]
    },
    {
      "cell_type": "code",
      "metadata": {
        "colab": {
          "base_uri": "https://localhost:8080/"
        },
        "id": "rli3mJb0nfY-",
        "outputId": "1d8f586e-f4ee-4bf3-d101-5f2428d2b4b3"
      },
      "source": [
        "print(games[0])"
      ],
      "execution_count": null,
      "outputs": [
        {
          "output_type": "stream",
          "name": "stdout",
          "text": [
            "Basketball\n"
          ]
        }
      ]
    },
    {
      "cell_type": "code",
      "metadata": {
        "colab": {
          "base_uri": "https://localhost:8080/"
        },
        "id": "ktorcHa7npCj",
        "outputId": "f8a04eb9-259d-436c-c1a2-d74cde9001d8"
      },
      "source": [
        "print(games[-3])"
      ],
      "execution_count": null,
      "outputs": [
        {
          "output_type": "stream",
          "name": "stdout",
          "text": [
            "Football\n"
          ]
        }
      ]
    },
    {
      "cell_type": "code",
      "metadata": {
        "colab": {
          "base_uri": "https://localhost:8080/"
        },
        "id": "UJH6dsVMn6zg",
        "outputId": "67dec68a-29f9-415d-f33d-9349d68da071"
      },
      "source": [
        "print(games[0:3])"
      ],
      "execution_count": null,
      "outputs": [
        {
          "output_type": "stream",
          "name": "stdout",
          "text": [
            "['Basketball', 'Circket', 'Football']\n"
          ]
        }
      ]
    },
    {
      "cell_type": "code",
      "metadata": {
        "id": "XwQlc2mIoGl_"
      },
      "source": [
        "# Adding new item to the List"
      ],
      "execution_count": null,
      "outputs": []
    },
    {
      "cell_type": "code",
      "metadata": {
        "id": "_XDsTDMdoZt_"
      },
      "source": [
        "games.append(\"Boxing\")"
      ],
      "execution_count": null,
      "outputs": []
    },
    {
      "cell_type": "code",
      "metadata": {
        "colab": {
          "base_uri": "https://localhost:8080/"
        },
        "id": "JX4q3rPx4DKm",
        "outputId": "3d2a162d-0b0d-467e-9f54-5892e7852646"
      },
      "source": [
        "print(games)"
      ],
      "execution_count": null,
      "outputs": [
        {
          "output_type": "stream",
          "name": "stdout",
          "text": [
            "['Basketball', 'Circket', 'Football', 'Volleyball', 'Hockey', 'Boxing']\n"
          ]
        }
      ]
    },
    {
      "cell_type": "code",
      "metadata": {
        "id": "XldFaLoW5Zth"
      },
      "source": [
        "# Removing item from the List"
      ],
      "execution_count": null,
      "outputs": []
    },
    {
      "cell_type": "code",
      "metadata": {
        "id": "zHbDGCLt5bbG"
      },
      "source": [
        "games.remove(\"Hockey\")"
      ],
      "execution_count": null,
      "outputs": []
    },
    {
      "cell_type": "code",
      "metadata": {
        "colab": {
          "base_uri": "https://localhost:8080/"
        },
        "id": "lo3KXrkX5h_g",
        "outputId": "b387fb23-f9b2-4f93-d6a4-203aefb589c7"
      },
      "source": [
        "print(games)"
      ],
      "execution_count": null,
      "outputs": [
        {
          "output_type": "stream",
          "name": "stdout",
          "text": [
            "['Basketball', 'Circket', 'Football', 'Volleyball', 'Boxing']\n"
          ]
        }
      ]
    },
    {
      "cell_type": "code",
      "metadata": {
        "id": "epCtXCKP8GCL"
      },
      "source": [
        "# Mixed"
      ],
      "execution_count": null,
      "outputs": []
    },
    {
      "cell_type": "code",
      "metadata": {
        "id": "zxFDef7-p1Gp"
      },
      "source": [
        "mixed = [\"3\",\"2.3\",\"4.3\",\"3.4\",\"1\"]"
      ],
      "execution_count": null,
      "outputs": []
    },
    {
      "cell_type": "code",
      "metadata": {
        "colab": {
          "base_uri": "https://localhost:8080/",
          "height": 35
        },
        "id": "ovcoZ8U9pktQ",
        "outputId": "2b4f9df5-d9b4-4f65-c767-9e0c3692cd02"
      },
      "source": [
        "mixed[3]"
      ],
      "execution_count": null,
      "outputs": [
        {
          "output_type": "execute_result",
          "data": {
            "application/vnd.google.colaboratory.intrinsic+json": {
              "type": "string"
            },
            "text/plain": [
              "'3.4'"
            ]
          },
          "metadata": {},
          "execution_count": 36
        }
      ]
    },
    {
      "cell_type": "code",
      "metadata": {
        "id": "2fk-t-pCprnd"
      },
      "source": [
        "mixed.remove(\"1\")"
      ],
      "execution_count": null,
      "outputs": []
    },
    {
      "cell_type": "code",
      "metadata": {
        "colab": {
          "base_uri": "https://localhost:8080/"
        },
        "id": "LlpVMuqe5NAH",
        "outputId": "c853ec5f-478f-41f3-bde8-796e8c86d911"
      },
      "source": [
        "print(mixed)"
      ],
      "execution_count": null,
      "outputs": [
        {
          "output_type": "stream",
          "name": "stdout",
          "text": [
            "['3', '2.3', '4.3', '3.4']\n"
          ]
        }
      ]
    },
    {
      "cell_type": "code",
      "metadata": {
        "id": "XmMOLCpd8OQw"
      },
      "source": [
        "# Loop through list "
      ],
      "execution_count": null,
      "outputs": []
    },
    {
      "cell_type": "code",
      "metadata": {
        "colab": {
          "base_uri": "https://localhost:8080/"
        },
        "id": "eKNIuAdCqMY4",
        "outputId": "5d699c5c-1d18-4c66-beb3-dbe6786f2023"
      },
      "source": [
        "for a in games:\n",
        "  print(a)"
      ],
      "execution_count": null,
      "outputs": [
        {
          "output_type": "stream",
          "name": "stdout",
          "text": [
            "Basketball\n",
            "Circket\n",
            "Football\n",
            "Volleyball\n",
            "Boxing\n"
          ]
        }
      ]
    },
    {
      "cell_type": "code",
      "metadata": {
        "id": "JiCPNRwi6mDu"
      },
      "source": [
        "# Tuple"
      ],
      "execution_count": null,
      "outputs": []
    },
    {
      "cell_type": "markdown",
      "metadata": {
        "id": "QVljAyXPCSuQ"
      },
      "source": [
        "Collection of mixed data types."
      ]
    },
    {
      "cell_type": "code",
      "metadata": {
        "id": "iCfodAGqq0bU"
      },
      "source": [
        "animal = (\"bear\",\"dog\",\"cat\")"
      ],
      "execution_count": null,
      "outputs": []
    },
    {
      "cell_type": "code",
      "metadata": {
        "colab": {
          "base_uri": "https://localhost:8080/"
        },
        "id": "iWsOQa7S6NNM",
        "outputId": "8ae521d9-d20c-48f7-b5c7-d16f2a9266d8"
      },
      "source": [
        "print(animal)"
      ],
      "execution_count": null,
      "outputs": [
        {
          "output_type": "stream",
          "name": "stdout",
          "text": [
            "('bear', 'dog', 'cat')\n"
          ]
        }
      ]
    },
    {
      "cell_type": "code",
      "metadata": {
        "colab": {
          "base_uri": "https://localhost:8080/",
          "height": 35
        },
        "id": "bFcHf9QurDj5",
        "outputId": "1627996d-b0f2-4c39-e21b-525aa1f8ed99"
      },
      "source": [
        "animal [1]"
      ],
      "execution_count": null,
      "outputs": [
        {
          "output_type": "execute_result",
          "data": {
            "application/vnd.google.colaboratory.intrinsic+json": {
              "type": "string"
            },
            "text/plain": [
              "'dog'"
            ]
          },
          "metadata": {},
          "execution_count": 44
        }
      ]
    },
    {
      "cell_type": "code",
      "metadata": {
        "id": "DIGK_hhD9Bj5"
      },
      "source": [
        "# Changing Elements in Tuple"
      ],
      "execution_count": null,
      "outputs": []
    },
    {
      "cell_type": "code",
      "metadata": {
        "colab": {
          "base_uri": "https://localhost:8080/",
          "height": 165
        },
        "id": "xskBtRGwrIgo",
        "outputId": "12f30296-f985-4048-dcef-25d96708f457"
      },
      "source": [
        "animal[0] = \"sheep\" "
      ],
      "execution_count": null,
      "outputs": [
        {
          "output_type": "error",
          "ename": "TypeError",
          "evalue": "ignored",
          "traceback": [
            "\u001b[0;31m---------------------------------------------------------------------------\u001b[0m",
            "\u001b[0;31mTypeError\u001b[0m                                 Traceback (most recent call last)",
            "\u001b[0;32m<ipython-input-46-fd02452d316d>\u001b[0m in \u001b[0;36m<module>\u001b[0;34m()\u001b[0m\n\u001b[0;32m----> 1\u001b[0;31m \u001b[0manimal\u001b[0m\u001b[0;34m[\u001b[0m\u001b[0;36m0\u001b[0m\u001b[0;34m]\u001b[0m \u001b[0;34m=\u001b[0m \u001b[0;34m\"sheep\"\u001b[0m\u001b[0;34m\u001b[0m\u001b[0;34m\u001b[0m\u001b[0m\n\u001b[0m",
            "\u001b[0;31mTypeError\u001b[0m: 'tuple' object does not support item assignment"
          ]
        }
      ]
    },
    {
      "cell_type": "markdown",
      "metadata": {
        "id": "7qCkGEaNCXUW"
      },
      "source": [
        "Once a tuple is created, you cannot change its values. So, this error will be shown. "
      ]
    },
    {
      "cell_type": "code",
      "metadata": {
        "colab": {
          "base_uri": "https://localhost:8080/"
        },
        "id": "AyMuCXJk6Eji",
        "outputId": "09cd2d43-de7a-42dc-f1f9-f8e24be02155"
      },
      "source": [
        "print(animal)"
      ],
      "execution_count": null,
      "outputs": [
        {
          "output_type": "stream",
          "name": "stdout",
          "text": [
            "('bear', 'dog', 'cat')\n"
          ]
        }
      ]
    },
    {
      "cell_type": "code",
      "metadata": {
        "id": "s3OqTxtT6-IQ"
      },
      "source": [
        "# Looping through Tuple"
      ],
      "execution_count": null,
      "outputs": []
    },
    {
      "cell_type": "code",
      "metadata": {
        "colab": {
          "base_uri": "https://localhost:8080/"
        },
        "id": "voGOCiP8rS-X",
        "outputId": "0e361ba1-663f-49e5-f83b-794c4f301616"
      },
      "source": [
        "for i in animal:\n",
        "  print(i)"
      ],
      "execution_count": null,
      "outputs": [
        {
          "output_type": "stream",
          "name": "stdout",
          "text": [
            "bear\n",
            "dog\n",
            "cat\n"
          ]
        }
      ]
    },
    {
      "cell_type": "code",
      "metadata": {
        "id": "NGIGTy7m8i7d"
      },
      "source": [
        "# Tuple Length"
      ],
      "execution_count": null,
      "outputs": []
    },
    {
      "cell_type": "code",
      "metadata": {
        "colab": {
          "base_uri": "https://localhost:8080/"
        },
        "id": "slNVtv1DrZ00",
        "outputId": "d9616081-75d5-47d1-90b8-fcf739792409"
      },
      "source": [
        "print(len(animal))"
      ],
      "execution_count": null,
      "outputs": [
        {
          "output_type": "stream",
          "name": "stdout",
          "text": [
            "3\n"
          ]
        }
      ]
    },
    {
      "cell_type": "code",
      "metadata": {
        "id": "VHsNF8B867rS"
      },
      "source": [
        "# Joining Tuple using +"
      ],
      "execution_count": null,
      "outputs": []
    },
    {
      "cell_type": "code",
      "metadata": {
        "id": "qhzExplqrdJy"
      },
      "source": [
        "letters = ('a','b','c')\n",
        "numbers = (1,2,3)\n",
        "letter_number = letters + numbers"
      ],
      "execution_count": null,
      "outputs": []
    },
    {
      "cell_type": "code",
      "metadata": {
        "colab": {
          "base_uri": "https://localhost:8080/"
        },
        "id": "l6yRiddSr8-T",
        "outputId": "aeb89e3c-7595-410a-f94c-047fad1c03ca"
      },
      "source": [
        "print(letter_number)"
      ],
      "execution_count": null,
      "outputs": [
        {
          "output_type": "stream",
          "name": "stdout",
          "text": [
            "('a', 'b', 'c', 1, 2, 3)\n"
          ]
        }
      ]
    },
    {
      "cell_type": "code",
      "metadata": {
        "id": "IYHg42X5jy6Z"
      },
      "source": [
        ""
      ],
      "execution_count": null,
      "outputs": []
    }
  ]
}